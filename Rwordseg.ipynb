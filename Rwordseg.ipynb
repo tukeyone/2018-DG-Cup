{
 "cells": [
  {
   "cell_type": "code",
   "execution_count": 1,
   "metadata": {},
   "outputs": [
    {
     "name": "stderr",
     "output_type": "stream",
     "text": [
      "Loading required package: rJava\n",
      "# Version: 0.2-1\n"
     ]
    }
   ],
   "source": [
    "library(Rwordseg)\n",
    "setwd(\"F:/Jupyter_3/project_my/!08-30_神策杯-2018高校算法大师赛\")"
   ]
  },
  {
   "cell_type": "code",
   "execution_count": 4,
   "metadata": {},
   "outputs": [
    {
     "name": "stdout",
     "output_type": "stream",
     "text": [
      "3732 words were loaded! ... New dictionary 'GeShouRenMIngDaQUan' was installed!\n",
      "5817 words were loaded! ... New dictionary 'MingXing' was installed!\n"
     ]
    }
   ],
   "source": [
    "installDict(\"./word_library_scel/明星/歌手人名大全【官方推荐】.scel\", dictname =\"GeShouRenMIngDaQUan\")\n",
    "installDict(\"./word_library_scel/明星/明星【官方推荐】.scel\", dictname =\"MingXing\")\n",
    "installDict(\"./word_library_scel/财经金融词汇大全.scel\", dictname =\"CaiJingJinRong\")\n",
    "installDict(\"./word_library_scel/房地产词汇大全【官方推荐】.scel\", dictname =\"FangDiChan\")\n",
    "installDict(\"./word_library_scel/股票基金词库大全.scel\", dictname =\"GuPiaoJiJin\")\n",
    "installDict(\"./word_library_scel/旅游词汇大全【官方推荐】.scel\", dictname =\"LuYou\")\n",
    "installDict(\"./word_library_scel/热门电影大全.scel\", dictname =\"ReMenDianYing\")\n",
    "installDict(\"./word_library_scel/网络术语.scel\", dictname =\"WangLuoShuYu\")\n",
    "installDict(\"./word_library_scel/最新流行新歌 新专辑.scel\", dictname =\"ZuiXinLiuXingXinGe\")"
   ]
  },
  {
   "cell_type": "code",
   "execution_count": 5,
   "metadata": {},
   "outputs": [],
   "source": [
    "# installDict(\"./word_library_scel/八大菜系【官方推荐】.scel\", dictname =\"BaDaCaiXi\")\n",
    "# installDict(\"./word_library_scel/手机词汇大全【官方推荐】.scel\", dictname =\"ShouJi\")\n",
    "# installDict(\"./word_library_scel/电视剧名大全.scel\", dictname =\"DianShiJu\")"
   ]
  },
  {
   "cell_type": "markdown",
   "metadata": {},
   "source": [
    "'D:\\Users\\R\\R-3.4.4\\library\\Rwordseg\\dict'"
   ]
  }
 ],
 "metadata": {
  "kernelspec": {
   "display_name": "R_3.4.4",
   "language": "R",
   "name": "ir"
  },
  "language_info": {
   "codemirror_mode": "r",
   "file_extension": ".r",
   "mimetype": "text/x-r-source",
   "name": "R",
   "pygments_lexer": "r",
   "version": "3.4.4"
  }
 },
 "nbformat": 4,
 "nbformat_minor": 2
}
